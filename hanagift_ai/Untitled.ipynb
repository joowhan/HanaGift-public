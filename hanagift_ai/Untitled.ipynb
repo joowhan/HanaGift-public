{
 "cells": [
  {
   "cell_type": "code",
   "execution_count": 6,
   "id": "cadec26c-d136-4a6a-87b9-311cfee453d0",
   "metadata": {},
   "outputs": [
    {
     "name": "stdout",
     "output_type": "stream",
     "text": [
      "['2024-09-11', 1367.82, 1320.78, 1357.4, 1331.2, 1328.61, 1344.3, 4.8, 6.96077, 1.0]\n",
      "['2024-09-10', 1362.94, 1316.06, 1352.6, 1326.4, 1323.82, 1339.5, 9.1, 6.95393, 1.0]\n",
      "['2024-09-09', 1353.68, 1307.12, 1343.4, 1317.4, 1314.83, 1330.4, 5.4, 6.95984, 1.0]\n",
      "['2024-09-06', 1359.17, 1312.43, 1348.8, 1322.8, 1320.22, 1335.8, 6.2, 6.968, 1.0]\n",
      "['2024-09-05', 1365.48, 1318.52, 1355.1, 1328.9, 1326.29, 1342.0, 1.0, 7.01249, 1.0]\n",
      "['2024-09-04', 1364.46, 1317.54, 1354.1, 1327.9, 1325.29, 1341.0, 0.0, 7.02395, 1.0]\n"
     ]
    }
   ],
   "source": [
    "from selenium import webdriver\n",
    "from selenium.webdriver.common.by import By\n",
    "from selenium.webdriver.support.ui import WebDriverWait, Select\n",
    "from selenium.webdriver.support import expected_conditions as EC\n",
    "from selenium.common.exceptions import TimeoutException, ElementClickInterceptedException\n",
    "from datetime import datetime, timedelta  # 현재 날짜를 가져오기 위해 추가\n",
    "import mysql.connector  # MySQL 연결을 위해 추가\n",
    "import time\n",
    "\n",
    "# MySQL 서버에 연결\n",
    "conn = mysql.connector.connect(\n",
    "    host='13.211.174.98',      # 호스트 이름\n",
    "    user='root',       # MySQL 사용자 이름\n",
    "    password='hanagift',   # MySQL 사용자 비밀번호\n",
    "    database='db'  # 연결할 데이터베이스 이름\n",
    ")\n",
    "\n",
    "# 커서 생성\n",
    "cursor = conn.cursor()\n",
    "\n",
    "\n",
    "data_list = [] \n",
    "# 웹 드라이버 설정 (예: Chrome)\n",
    "driver = webdriver.Chrome()\n",
    "\n",
    "# 1. 페이지 로드\n",
    "url = \"https://www.kebhana.com/cms/rate/index.do?contentUrl=/cms/rate/wpfxd651_07i.do#//HanaBank\"\n",
    "driver.get(url)\n",
    "\n",
    "# 2. 페이지 로드 대기\n",
    "wait = WebDriverWait(driver, 10)\n",
    "\n",
    "# 3. 로딩 레이어가 사라질 때까지 대기\n",
    "try:\n",
    "    loading_layer = wait.until(EC.presence_of_element_located((By.CSS_SELECTOR, \"#OPB_loadingLayerID_generatedByJSOPB_modalMaskID_generatedByJS\")))\n",
    "    wait.until(EC.invisibility_of_element(loading_layer))\n",
    "except TimeoutException:\n",
    "    print(\"Loading layer did not disappear, continuing...\")\n",
    "\n",
    "# 4. \"기간환율변동\" 선택 클릭\n",
    "try:\n",
    "    period_exchange_button = wait.until(EC.element_to_be_clickable((By.CSS_SELECTOR, \"label[for='inqType_p'].radioForm\")))\n",
    "    period_exchange_button.click()\n",
    "except (TimeoutException, ElementClickInterceptedException):\n",
    "    driver.execute_script(\"document.querySelector(\\\"label[for='inqType_p']\\\").click();\")\n",
    "\n",
    "\n",
    "# 5. 날짜 수정 (조회 기간 시작일)\n",
    "seven_days_before = (datetime.now() - timedelta(days=7)).strftime('%Y-%m-%d')\n",
    "date_input = wait.until(EC.presence_of_element_located((By.CSS_SELECTOR, \"#tmpInqStrDt_p\")))\n",
    "date_input.clear()\n",
    "date_input.send_keys(seven_days_before)\n",
    "\n",
    "today = datetime.now().strftime('%Y-%m-%d')\n",
    "date_input = wait.until(EC.presence_of_element_located((By.CSS_SELECTOR, \"#tmpInqEndDt_p\")))\n",
    "date_input.clear()\n",
    "date_input.send_keys(today)\n",
    "\n",
    "# 6. 통화 선택 (코드 테이블에 있는 외화 목록을 반복 조회)\n",
    "currency_codes = ['AUD', 'BRL', 'CAD', 'CNY', 'EUR', 'GBP', 'JPY', 'KRW', 'MYR', 'RUB', 'SEK', 'USD', 'VND']  # 테이블에서 확인한 코드들\n",
    "\n",
    "currency_select = wait.until(EC.presence_of_element_located((By.CSS_SELECTOR, \"#curCd\")))\n",
    "select = Select(currency_select)\n",
    "select.select_by_value(\"USD\")\n",
    "\n",
    "# 7. \"조회\" 버튼 클릭\n",
    "query_button = wait.until(EC.element_to_be_clickable((By.CSS_SELECTOR, \"#HANA_CONTENTS_DIV > div.btnBoxCenter > a\")))\n",
    "query_button.click()\n",
    "\n",
    "# 8. 조회 후 5초 대기\n",
    "time.sleep(90)\n",
    "\n",
    "\n",
    "\n",
    "# 9. 테이블 데이터 크롤링\n",
    "rows = driver.find_elements(By.CSS_SELECTOR, \"#searchContentDiv > div.printdiv > table > tbody > tr\")\n",
    "\n",
    "for row in rows:\n",
    "    columns = row.find_elements(By.TAG_NAME, \"td\")\n",
    "    data = [column.text for column in columns]\n",
    "    \n",
    "    # 첫 번째 값 제외, 나머지를 float로 변환\n",
    "    for i in range(1, len(data)):\n",
    "        try:\n",
    "            data[i] = float(data[i].replace(',', ''))  # 쉼표 제거 후 float 변환\n",
    "        except ValueError:\n",
    "            print(f\"변환 실패: {data[i]}\")\n",
    "    data_list.append(data)\n",
    "    print(data)\n",
    "\n",
    "# 웹 드라이버 종료\n",
    "driver.quit()"
   ]
  },
  {
   "cell_type": "code",
   "execution_count": 25,
   "id": "22f58784-5aa2-495d-a179-0fa398806217",
   "metadata": {},
   "outputs": [
    {
     "name": "stdout",
     "output_type": "stream",
     "text": [
      "데이터가 성공적으로 삽입되었습니다.\n"
     ]
    }
   ],
   "source": [
    "# MySQL 서버에 연결\n",
    "conn = mysql.connector.connect(\n",
    "    host='13.211.174.98',      # 호스트 이름\n",
    "    user='root',       # MySQL 사용자 이름\n",
    "    password='hanagift',   # MySQL 사용자 비밀번호\n",
    "    database='db'  # 연결할 데이터베이스 이름\n",
    ")\n",
    "\n",
    "# 커서 생성\n",
    "cursor = conn.cursor()\n",
    "\n",
    "sql_query = \"\"\"\n",
    "INSERT INTO exchangeRate (exchangeDate, buyCash, sellCash, sendRemit, receiveRemit, buyForeignCheck, exchangeRate, previousComparison, rateGap, usdConversionRate)\n",
    "VALUES (%s, %s, %s, %s, %s, %s, %s, %s, %s, %s)\n",
    "\"\"\"\n",
    "\n",
    "# 데이터 삽입\n",
    "try:\n",
    "    cursor.execute(sql_query, data)\n",
    "    conn.commit()  # 변경사항을 데이터베이스에 반영\n",
    "    print(\"데이터가 성공적으로 삽입되었습니다.\")\n",
    "except mysql.connector.Error as err:\n",
    "    print(f\"Error: {err}\")\n",
    "    conn.rollback()  # 오류 발생 시 롤백\n",
    "\n",
    "# 연결과 커서 닫기\n",
    "cursor.close()\n",
    "conn.close()"
   ]
  },
  {
   "cell_type": "code",
   "execution_count": 27,
   "id": "0dec55d8-9448-41d4-872f-1132c93a738e",
   "metadata": {},
   "outputs": [],
   "source": [
    "# 오늘 날짜 가져오기\n",
    "from datetime import datetime \n",
    "today = datetime.now().strftime('%Y-%m-%d')"
   ]
  },
  {
   "cell_type": "code",
   "execution_count": 28,
   "id": "6ea7c625-4d38-4734-b9e5-ad9279373bbc",
   "metadata": {},
   "outputs": [
    {
     "data": {
      "text/plain": [
       "'2024-09-11'"
      ]
     },
     "execution_count": 28,
     "metadata": {},
     "output_type": "execute_result"
    }
   ],
   "source": [
    "today"
   ]
  },
  {
   "cell_type": "code",
   "execution_count": null,
   "id": "3c0672fb-5f0d-49e4-9c09-1c6a90ec9817",
   "metadata": {},
   "outputs": [],
   "source": []
  }
 ],
 "metadata": {
  "kernelspec": {
   "display_name": "Python 3 (ipykernel)",
   "language": "python",
   "name": "python3"
  },
  "language_info": {
   "codemirror_mode": {
    "name": "ipython",
    "version": 3
   },
   "file_extension": ".py",
   "mimetype": "text/x-python",
   "name": "python",
   "nbconvert_exporter": "python",
   "pygments_lexer": "ipython3",
   "version": "3.8.18"
  }
 },
 "nbformat": 4,
 "nbformat_minor": 5
}
